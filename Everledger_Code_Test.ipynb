{
 "cells": [
  {
   "cell_type": "markdown",
   "metadata": {},
   "source": [
    "# Everledger Code Test\n",
    "\n",
    "Author: Ninad G. Wadekar   \n",
    "Date: 01/12/2021"
   ]
  },
  {
   "cell_type": "markdown",
   "metadata": {},
   "source": [
    "  "
   ]
  },
  {
   "cell_type": "markdown",
   "metadata": {},
   "source": [
    "  "
   ]
  },
  {
   "cell_type": "code",
   "execution_count": 1,
   "metadata": {},
   "outputs": [
    {
     "name": "stdout",
     "output_type": "stream",
     "text": [
      "Requirement already satisfied: xlrd in c:\\users\\61431\\anaconda3\\envs\\ninad_haai\\lib\\site-packages (2.0.1)\n"
     ]
    }
   ],
   "source": [
    "# Need xlrd library for reading data and formatting information from \n",
    "# Excel files in the historical .xls format.\n",
    "\n",
    "!pip install xlrd"
   ]
  },
  {
   "cell_type": "code",
   "execution_count": 2,
   "metadata": {},
   "outputs": [],
   "source": [
    "# Import necessary libraries\n",
    "\n",
    "import pandas as pd"
   ]
  },
  {
   "cell_type": "markdown",
   "metadata": {},
   "source": [
    "  "
   ]
  },
  {
   "cell_type": "markdown",
   "metadata": {},
   "source": [
    "# Parse the attached employee__1_.xls file"
   ]
  },
  {
   "cell_type": "code",
   "execution_count": 3,
   "metadata": {},
   "outputs": [
    {
     "name": "stdout",
     "output_type": "stream",
     "text": [
      "    Emp ID First Name Last Name Gender     Father's Name       Mother's Name  \\\n",
      "0   677509       Lois    Walker      F     Donald Walker        Helen Walker   \n",
      "1   940761     Brenda  Robinson      F  Raymond Robinson       Judy Robinson   \n",
      "2   428945        Joe  Robinson      M    Scott Robinson  Stephanie Robinson   \n",
      "3   408351      Diane     Evans      F       Jason Evans      Michelle Evans   \n",
      "4   193819   Benjamin   Russell      M   Gregory Russell   Elizabeth Russell   \n",
      "..     ...        ...       ...    ...               ...                 ...   \n",
      "95  639892       Jose      Hill      M       Carlos Hill           Anna Hill   \n",
      "96  704709     Harold    Nelson      M    Richard Nelson       Pamela Nelson   \n",
      "97  461593     Nicole      Ward      F        Ralph Ward          Julia Ward   \n",
      "98  392491    Theresa    Murphy      F     George Murphy   Jacqueline Murphy   \n",
      "99  495141      Tammy     Young      F      Andrew Young        Brenda Young   \n",
      "\n",
      "   Mother's Maiden Name        Date of Birth      Date of Joining  \\\n",
      "0                 Lewis            3/29/1981           11/24/2003   \n",
      "1                 Perry            7/31/1970            7/27/2008   \n",
      "2                Taylor            6/16/1963  2016-03-08 00:00:00   \n",
      "3                 Allen  1977-04-12 00:00:00            4/16/1999   \n",
      "4                Nelson            4/17/1977            7/25/2013   \n",
      "..                  ...                  ...                  ...   \n",
      "95                Hayes  1994-08-10 00:00:00  2016-09-07 00:00:00   \n",
      "96                Smith           12/24/1984            8/23/2011   \n",
      "97                  Lee  1964-12-12 00:00:00            1/23/1989   \n",
      "98             Peterson           12/30/1987  2010-03-08 00:00:00   \n",
      "99             Robinson            3/22/1979            4/25/2015   \n",
      "\n",
      "   Quarter of Joining    Place Name              County          City State  \\\n",
      "0                  Q4        Denver              Denver        Denver    CO   \n",
      "1                  Q3     Stonewall             De Soto     Stonewall    LA   \n",
      "2                  Q3  Michigantown             Clinton  Michigantown    IN   \n",
      "3                  Q2      Hydetown            Crawford      Hydetown    PA   \n",
      "4                  Q3       Fremont             Waupaca       Fremont    WI   \n",
      "..                ...           ...                 ...           ...   ...   \n",
      "95                 Q3        Biloxi            Harrison        Biloxi    MS   \n",
      "96                 Q3  Carol Stream        Carol Stream  Carol Stream    IL   \n",
      "97                 Q1       Detroit               Wayne       Detroit    MI   \n",
      "98                 Q3      Mc Grath  Yukon-Koyukuk (CA)      Mc Grath    AK   \n",
      "99                 Q2          Alma             Gratiot          Alma    MI   \n",
      "\n",
      "      Zip   User Name  \n",
      "0   80224    lhwalker  \n",
      "1   71078  bsrobinson  \n",
      "2   46057  jwrobinson  \n",
      "3   16328     dievans  \n",
      "4   54940   brrussell  \n",
      "..    ...         ...  \n",
      "95  39532      jkhill  \n",
      "96  60351    hznelson  \n",
      "97  48278      noward  \n",
      "98  99627    trmurphy  \n",
      "99  48801     tbyoung  \n",
      "\n",
      "[100 rows x 16 columns]\n"
     ]
    }
   ],
   "source": [
    "# Reading employee__1_.xls file and converting it to dataframe\n",
    "\n",
    "df_employee = pd.read_excel('employee__1_.xls')\n",
    "print(df_employee)"
   ]
  },
  {
   "cell_type": "markdown",
   "metadata": {},
   "source": [
    "  "
   ]
  },
  {
   "cell_type": "markdown",
   "metadata": {},
   "source": [
    "# Normalize the date fields into a standard format"
   ]
  },
  {
   "cell_type": "code",
   "execution_count": 14,
   "metadata": {},
   "outputs": [
    {
     "name": "stdout",
     "output_type": "stream",
     "text": [
      "1. Shape of dataframe:  (100, 17)\n",
      "\n",
      "2. Datatype of each column in the dataframe:\n",
      " Emp ID                           int64\n",
      "First Name                      object\n",
      "Last Name                       object\n",
      "Gender                          object\n",
      "Father's Name                   object\n",
      "Mother's Name                   object\n",
      "Mother's Maiden Name            object\n",
      "Date of Birth           datetime64[ns]\n",
      "Date of Joining         datetime64[ns]\n",
      "Quarter of Joining              object\n",
      "Place Name                      object\n",
      "County                          object\n",
      "City                            object\n",
      "State                           object\n",
      "Zip                              int64\n",
      "User Name                       object\n",
      "Full Name                       object\n",
      "dtype: object\n",
      "\n",
      "3 .Number of null values in each column:\n",
      " Emp ID                  0\n",
      "First Name              0\n",
      "Last Name               0\n",
      "Gender                  0\n",
      "Father's Name           0\n",
      "Mother's Name           0\n",
      "Mother's Maiden Name    0\n",
      "Date of Birth           0\n",
      "Date of Joining         0\n",
      "Quarter of Joining      0\n",
      "Place Name              0\n",
      "County                  0\n",
      "City                    0\n",
      "State                   0\n",
      "Zip                     0\n",
      "User Name               0\n",
      "Full Name               0\n",
      "dtype: int64\n"
     ]
    }
   ],
   "source": [
    "# Let's first check shape of dataframe, data type of each column in the\n",
    "# dataframe and if there is null values in the dataframe\n",
    "\n",
    "print('1. Shape of dataframe: ', df_employee.shape)\n",
    "\n",
    "print('\\n2. Datatype of each column in the dataframe:\\n',\\\n",
    "      df_employee.dtypes)\n",
    "\n",
    "print('\\n3 .Number of null values in each column:\\n',\\\n",
    "      df_employee.isna().sum())\n"
   ]
  },
  {
   "cell_type": "code",
   "execution_count": 5,
   "metadata": {},
   "outputs": [
    {
     "name": "stdout",
     "output_type": "stream",
     "text": [
      "Date of Birth and Date of Joining datatype changed:\n",
      " Emp ID                           int64\n",
      "First Name                      object\n",
      "Last Name                       object\n",
      "Gender                          object\n",
      "Father's Name                   object\n",
      "Mother's Name                   object\n",
      "Mother's Maiden Name            object\n",
      "Date of Birth           datetime64[ns]\n",
      "Date of Joining         datetime64[ns]\n",
      "Quarter of Joining              object\n",
      "Place Name                      object\n",
      "County                          object\n",
      "City                            object\n",
      "State                           object\n",
      "Zip                              int64\n",
      "User Name                       object\n",
      "dtype: object\n",
      "\n",
      "\n",
      "df_employee with normalized date column \n",
      "\n",
      "     Emp ID First Name Last Name Gender     Father's Name       Mother's Name  \\\n",
      "0   677509       Lois    Walker      F     Donald Walker        Helen Walker   \n",
      "1   940761     Brenda  Robinson      F  Raymond Robinson       Judy Robinson   \n",
      "2   428945        Joe  Robinson      M    Scott Robinson  Stephanie Robinson   \n",
      "3   408351      Diane     Evans      F       Jason Evans      Michelle Evans   \n",
      "4   193819   Benjamin   Russell      M   Gregory Russell   Elizabeth Russell   \n",
      "..     ...        ...       ...    ...               ...                 ...   \n",
      "95  639892       Jose      Hill      M       Carlos Hill           Anna Hill   \n",
      "96  704709     Harold    Nelson      M    Richard Nelson       Pamela Nelson   \n",
      "97  461593     Nicole      Ward      F        Ralph Ward          Julia Ward   \n",
      "98  392491    Theresa    Murphy      F     George Murphy   Jacqueline Murphy   \n",
      "99  495141      Tammy     Young      F      Andrew Young        Brenda Young   \n",
      "\n",
      "   Mother's Maiden Name Date of Birth Date of Joining Quarter of Joining  \\\n",
      "0                 Lewis    1981-03-29      2003-11-24                 Q4   \n",
      "1                 Perry    1970-07-31      2008-07-27                 Q3   \n",
      "2                Taylor    1963-06-16      2016-03-08                 Q3   \n",
      "3                 Allen    1977-04-12      1999-04-16                 Q2   \n",
      "4                Nelson    1977-04-17      2013-07-25                 Q3   \n",
      "..                  ...           ...             ...                ...   \n",
      "95                Hayes    1994-08-10      2016-09-07                 Q3   \n",
      "96                Smith    1984-12-24      2011-08-23                 Q3   \n",
      "97                  Lee    1964-12-12      1989-01-23                 Q1   \n",
      "98             Peterson    1987-12-30      2010-03-08                 Q3   \n",
      "99             Robinson    1979-03-22      2015-04-25                 Q2   \n",
      "\n",
      "      Place Name              County          City State    Zip   User Name  \n",
      "0         Denver              Denver        Denver    CO  80224    lhwalker  \n",
      "1      Stonewall             De Soto     Stonewall    LA  71078  bsrobinson  \n",
      "2   Michigantown             Clinton  Michigantown    IN  46057  jwrobinson  \n",
      "3       Hydetown            Crawford      Hydetown    PA  16328     dievans  \n",
      "4        Fremont             Waupaca       Fremont    WI  54940   brrussell  \n",
      "..           ...                 ...           ...   ...    ...         ...  \n",
      "95        Biloxi            Harrison        Biloxi    MS  39532      jkhill  \n",
      "96  Carol Stream        Carol Stream  Carol Stream    IL  60351    hznelson  \n",
      "97       Detroit               Wayne       Detroit    MI  48278      noward  \n",
      "98      Mc Grath  Yukon-Koyukuk (CA)      Mc Grath    AK  99627    trmurphy  \n",
      "99          Alma             Gratiot          Alma    MI  48801     tbyoung  \n",
      "\n",
      "[100 rows x 16 columns]\n"
     ]
    }
   ],
   "source": [
    "# We can see from above column datatype description that Date of Birth and\n",
    "# Date of Joining are object datatypes. Let's normalize these columns to \n",
    "# standard date format YYYY-MM-DD.\n",
    "\n",
    "# Normalizing Date of Birth column\n",
    "df_employee['Date of Birth'] = pd.to_datetime(df_employee['Date of Birth'],\\\n",
    "                                              errors='coerce')\n",
    "\n",
    "# Normalizing Date of Joining column\n",
    "df_employee['Date of Joining'] = pd.to_datetime(df_employee['Date of Joining'],\\\n",
    "                                              errors='coerce')\n",
    "\n",
    "print('Date of Birth and Date of Joining datatype changed:\\n', df_employee.dtypes)\n",
    "\n",
    "print('\\n\\ndf_employee with normalized date column \\n\\n', df_employee)"
   ]
  },
  {
   "cell_type": "markdown",
   "metadata": {},
   "source": [
    "  "
   ]
  },
  {
   "cell_type": "markdown",
   "metadata": {},
   "source": [
    "# Group the employee list based on the field \"Quarter of Joining\" and sorted by the field \"Date of Birth\" and print as dictionary {Q1 : [emp1, emp2, ...]}"
   ]
  },
  {
   "cell_type": "code",
   "execution_count": 6,
   "metadata": {},
   "outputs": [
    {
     "name": "stdout",
     "output_type": "stream",
     "text": [
      "Unique values in Quarter of Joining column:\n",
      " ['Q4' 'Q3' 'Q2' 'Q1']\n"
     ]
    }
   ],
   "source": [
    "# Since we need to groupby 'Quarter of Joining', let's first check unique values\n",
    "# of this column. This will also make us aware if there are any incorrect values.\n",
    "\n",
    "print('Unique values in Quarter of Joining column:\\n',\\\n",
    "      df_employee['Quarter of Joining'].unique())\n",
    "\n",
    "# Thus values in Quarter of Joining column are consistent and correct."
   ]
  },
  {
   "cell_type": "code",
   "execution_count": 7,
   "metadata": {},
   "outputs": [
    {
     "name": "stdout",
     "output_type": "stream",
     "text": [
      "Results show if First Name is smae for multiple employees: \n",
      " Nancy       4\n",
      "Carol       2\n",
      "Margaret    2\n",
      "Anne        2\n",
      "Brenda      2\n",
      "           ..\n",
      "Jose        1\n",
      "Jeremy      1\n",
      "Ralph       1\n",
      "Julia       1\n",
      "Dorothy     1\n",
      "Name: First Name, Length: 79, dtype: int64\n",
      "\n",
      " Dataframe with new column Full Name:\n",
      "     Emp ID First Name Last Name Gender     Father's Name       Mother's Name  \\\n",
      "0   677509       Lois    Walker      F     Donald Walker        Helen Walker   \n",
      "1   940761     Brenda  Robinson      F  Raymond Robinson       Judy Robinson   \n",
      "2   428945        Joe  Robinson      M    Scott Robinson  Stephanie Robinson   \n",
      "3   408351      Diane     Evans      F       Jason Evans      Michelle Evans   \n",
      "4   193819   Benjamin   Russell      M   Gregory Russell   Elizabeth Russell   \n",
      "..     ...        ...       ...    ...               ...                 ...   \n",
      "95  639892       Jose      Hill      M       Carlos Hill           Anna Hill   \n",
      "96  704709     Harold    Nelson      M    Richard Nelson       Pamela Nelson   \n",
      "97  461593     Nicole      Ward      F        Ralph Ward          Julia Ward   \n",
      "98  392491    Theresa    Murphy      F     George Murphy   Jacqueline Murphy   \n",
      "99  495141      Tammy     Young      F      Andrew Young        Brenda Young   \n",
      "\n",
      "   Mother's Maiden Name Date of Birth Date of Joining Quarter of Joining  \\\n",
      "0                 Lewis    1981-03-29      2003-11-24                 Q4   \n",
      "1                 Perry    1970-07-31      2008-07-27                 Q3   \n",
      "2                Taylor    1963-06-16      2016-03-08                 Q3   \n",
      "3                 Allen    1977-04-12      1999-04-16                 Q2   \n",
      "4                Nelson    1977-04-17      2013-07-25                 Q3   \n",
      "..                  ...           ...             ...                ...   \n",
      "95                Hayes    1994-08-10      2016-09-07                 Q3   \n",
      "96                Smith    1984-12-24      2011-08-23                 Q3   \n",
      "97                  Lee    1964-12-12      1989-01-23                 Q1   \n",
      "98             Peterson    1987-12-30      2010-03-08                 Q3   \n",
      "99             Robinson    1979-03-22      2015-04-25                 Q2   \n",
      "\n",
      "      Place Name              County          City State    Zip   User Name  \\\n",
      "0         Denver              Denver        Denver    CO  80224    lhwalker   \n",
      "1      Stonewall             De Soto     Stonewall    LA  71078  bsrobinson   \n",
      "2   Michigantown             Clinton  Michigantown    IN  46057  jwrobinson   \n",
      "3       Hydetown            Crawford      Hydetown    PA  16328     dievans   \n",
      "4        Fremont             Waupaca       Fremont    WI  54940   brrussell   \n",
      "..           ...                 ...           ...   ...    ...         ...   \n",
      "95        Biloxi            Harrison        Biloxi    MS  39532      jkhill   \n",
      "96  Carol Stream        Carol Stream  Carol Stream    IL  60351    hznelson   \n",
      "97       Detroit               Wayne       Detroit    MI  48278      noward   \n",
      "98      Mc Grath  Yukon-Koyukuk (CA)      Mc Grath    AK  99627    trmurphy   \n",
      "99          Alma             Gratiot          Alma    MI  48801     tbyoung   \n",
      "\n",
      "           Full Name  \n",
      "0        Lois Walker  \n",
      "1    Brenda Robinson  \n",
      "2       Joe Robinson  \n",
      "3        Diane Evans  \n",
      "4   Benjamin Russell  \n",
      "..               ...  \n",
      "95         Jose Hill  \n",
      "96     Harold Nelson  \n",
      "97       Nicole Ward  \n",
      "98    Theresa Murphy  \n",
      "99       Tammy Young  \n",
      "\n",
      "[100 rows x 17 columns]\n"
     ]
    }
   ],
   "source": [
    "# Since we need to display employee name, let's check if there are\n",
    "# more than one employees with same First Name.\n",
    "\n",
    "print('Results show if First Name is same for multiple employees: \\n',\\\n",
    "      df_employee['First Name'].value_counts())\n",
    "\n",
    "# We can see from below results that some employees have same first\n",
    "# names. To improve probability of uniquely identifing employee \n",
    "# belonging to particular Quarter in final results, we can merge  \n",
    "# First Name and Last Name to create new column called Full Name.\n",
    "\n",
    "df_employee['Full Name'] = df_employee[['First Name', 'Last Name']]\\\n",
    "                            .apply(lambda x: ' '.join(x), axis=1)\n",
    "\n",
    "print('\\n Dataframe with new column Full Name:\\n',df_employee)"
   ]
  },
  {
   "cell_type": "code",
   "execution_count": 8,
   "metadata": {},
   "outputs": [
    {
     "name": "stdout",
     "output_type": "stream",
     "text": [
      "{'Q1': ['Jack Alexander', 'Melissa Butler', 'Matthew Turner', 'Ann Cooper', 'Theresa Lee', 'Sharon Lopez', 'Martha Washington', 'Daniel Cooper', 'Ernest Martinez', 'Larry Miller', 'Diana Peterson', 'Steven Phillips', 'Ernest Washington', 'Cynthia Ramirez', 'Phillip White', 'Deborah Smith', 'Debra Wood', 'Roger Roberts', 'William Hernandez', 'Nicole Ward', 'Elizabeth Jackson', 'Cynthia White', 'Nancy Howard', 'Julia Scott', 'Judy Gonzales', 'Carol Murphy'], 'Q2': ['Pamela Wright', 'Antonio Roberts', 'Carol Edwards', 'Todd Hall', 'Linda Moore', 'Andrea Garcia', 'Henry Jenkins', 'Amanda Hughes', 'Lillian Brown', 'Margaret Allen', 'Amy Howard', 'Tammy Young', 'Alan Rivera', 'Diane Evans', 'Ralph Flores', 'Carl Collins', 'Thomas Lewis', 'Jeremy Sanchez', 'Mary Bryant', 'Rebecca Stewart', 'Joyce Jenkins', 'Frances Young', 'Paul Watson'], 'Q3': ['Wayne Watson', 'Nancy Baker', 'Jose Hill', 'Gregory Edwards', 'Richard Mitchell', 'Ryan Alexander', 'Margaret Brooks', 'Paul Cooper', 'Roy Griffin', 'Theresa Murphy', 'Douglas Flores', 'Cheryl Miller', 'Jack Campbell', 'Harold Nelson', 'Nancy Davis', 'Donna Brown', 'Patrick Bailey', 'Janice Parker', 'Ruby Rogers', 'Benjamin Russell', 'Kelly Adams', 'Jason Anderson', 'Brenda Robinson', 'Joshua Stewart', 'Aaron Price', 'Ruby Stewart', 'Paula Diaz', 'Joe Robinson', 'Brenda Butler', 'Frances Watson', 'Carolyn Hayes', 'Anne Perez'], 'Q4': ['Nancy Jones', 'Ann Coleman', 'Anne Russell', 'Dorothy Edwards', 'Peter Washington', 'Lois Walker', 'Janet Henderson', 'Eugene Perez', 'Carolyn Price', 'Maria Walker', 'Lillian Mitchell', 'Joan Stewart', 'Melissa King', 'Mary Wilson', 'Jimmy Howard', 'Judy Hernandez', 'Clarence Ross', 'Christopher Nelson', 'Cheryl Scott']}\n"
     ]
    }
   ],
   "source": [
    "# Ref: https://pandas.pydata.org/docs/reference/api/pandas.DataFrame.groupby.html\n",
    "# Groupby preserves the order of rows of original dataframe within each group. \n",
    "# Thus we can sort first based on Date of Birth and then groupby Quarter of Joining \n",
    "# and subsequently converting results into dictionary\n",
    "\n",
    "grouped_sorted_emp_dict = df_employee.sort_values(['Date of Birth'], ascending=False)\\\n",
    "                            .groupby('Quarter of Joining')['Full Name']\\\n",
    "                            .apply(list)\\\n",
    "                            .to_dict()\n",
    "\n",
    "print(grouped_sorted_emp_dict)"
   ]
  },
  {
   "cell_type": "code",
   "execution_count": 9,
   "metadata": {},
   "outputs": [],
   "source": [
    "# Let's verify if above results are correct by comparing list of Q1 with\n",
    "# list obtained by alternate method. \n",
    "\n",
    "# For verification, df_employee is filtered on rows with Quarter of Joining\n",
    "# as Q1 and sliced to keep only First Name and Date of Birth columns. Further\n",
    "# sliced dataframe is sorted in descending order of Date of Birth. This is\n",
    "# alternate method which results into same sorted list of employees as above \n",
    "# based on Date of Birth and belonging to selected Quarter of Joining. \n",
    "\n",
    "verification_df = df_employee[df_employee['Quarter of Joining'] == 'Q1']\\\n",
    "                    [['Full Name', 'Date of Birth']]\\\n",
    "                    .sort_values('Date of Birth', ascending=False)\n",
    "\n",
    "name_list_for_verification = list(verification_df['Full Name'])\n"
   ]
  },
  {
   "cell_type": "code",
   "execution_count": 10,
   "metadata": {},
   "outputs": [
    {
     "name": "stdout",
     "output_type": "stream",
     "text": [
      "Lists are same.\n"
     ]
    }
   ],
   "source": [
    "# Let's check if list of Q1 in grouped_sorted_emp_dict is same as \n",
    "# name_list_for_verification\n",
    "\n",
    "if name_list_for_verification == grouped_sorted_emp_dict['Q1']:\n",
    "    print('Lists are same.')\n",
    "else:\n",
    "    print('List are different.')"
   ]
  },
  {
   "cell_type": "code",
   "execution_count": 11,
   "metadata": {},
   "outputs": [
    {
     "name": "stdout",
     "output_type": "stream",
     "text": [
      "Q1 : ['Jack Alexander', 'Melissa Butler', 'Matthew Turner', 'Ann Cooper', 'Theresa Lee', 'Sharon Lopez', 'Martha Washington', 'Daniel Cooper', 'Ernest Martinez', 'Larry Miller', 'Diana Peterson', 'Steven Phillips', 'Ernest Washington', 'Cynthia Ramirez', 'Phillip White', 'Deborah Smith', 'Debra Wood', 'Roger Roberts', 'William Hernandez', 'Nicole Ward', 'Elizabeth Jackson', 'Cynthia White', 'Nancy Howard', 'Julia Scott', 'Judy Gonzales', 'Carol Murphy'] \n",
      "\n",
      "Q2 : ['Pamela Wright', 'Antonio Roberts', 'Carol Edwards', 'Todd Hall', 'Linda Moore', 'Andrea Garcia', 'Henry Jenkins', 'Amanda Hughes', 'Lillian Brown', 'Margaret Allen', 'Amy Howard', 'Tammy Young', 'Alan Rivera', 'Diane Evans', 'Ralph Flores', 'Carl Collins', 'Thomas Lewis', 'Jeremy Sanchez', 'Mary Bryant', 'Rebecca Stewart', 'Joyce Jenkins', 'Frances Young', 'Paul Watson'] \n",
      "\n",
      "Q3 : ['Wayne Watson', 'Nancy Baker', 'Jose Hill', 'Gregory Edwards', 'Richard Mitchell', 'Ryan Alexander', 'Margaret Brooks', 'Paul Cooper', 'Roy Griffin', 'Theresa Murphy', 'Douglas Flores', 'Cheryl Miller', 'Jack Campbell', 'Harold Nelson', 'Nancy Davis', 'Donna Brown', 'Patrick Bailey', 'Janice Parker', 'Ruby Rogers', 'Benjamin Russell', 'Kelly Adams', 'Jason Anderson', 'Brenda Robinson', 'Joshua Stewart', 'Aaron Price', 'Ruby Stewart', 'Paula Diaz', 'Joe Robinson', 'Brenda Butler', 'Frances Watson', 'Carolyn Hayes', 'Anne Perez'] \n",
      "\n",
      "Q4 : ['Nancy Jones', 'Ann Coleman', 'Anne Russell', 'Dorothy Edwards', 'Peter Washington', 'Lois Walker', 'Janet Henderson', 'Eugene Perez', 'Carolyn Price', 'Maria Walker', 'Lillian Mitchell', 'Joan Stewart', 'Melissa King', 'Mary Wilson', 'Jimmy Howard', 'Judy Hernandez', 'Clarence Ross', 'Christopher Nelson', 'Cheryl Scott'] \n",
      "\n"
     ]
    }
   ],
   "source": [
    "# Displaying dictionary in more readable format\n",
    "\n",
    "for k, v in grouped_sorted_emp_dict.items():\n",
    "    print(k, ':', v, '\\n')"
   ]
  },
  {
   "cell_type": "code",
   "execution_count": null,
   "metadata": {},
   "outputs": [],
   "source": []
  }
 ],
 "metadata": {
  "kernelspec": {
   "display_name": "Python 3",
   "language": "python",
   "name": "python3"
  },
  "language_info": {
   "codemirror_mode": {
    "name": "ipython",
    "version": 3
   },
   "file_extension": ".py",
   "mimetype": "text/x-python",
   "name": "python",
   "nbconvert_exporter": "python",
   "pygments_lexer": "ipython3",
   "version": "3.7.7"
  }
 },
 "nbformat": 4,
 "nbformat_minor": 4
}
